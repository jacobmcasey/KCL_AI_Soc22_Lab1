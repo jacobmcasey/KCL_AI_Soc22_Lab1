{
 "cells": [
  {
   "cell_type": "markdown",
   "id": "66c47b7d",
   "metadata": {},
   "source": [
    "# KCL AI Society 2022/2023: Lab 1\n",
    "by Jacob Casey (AI Lab Leader)\n",
    "\n",
    "**Aim**\n",
    "- Engineer your first AI model to recognise handwritten digits\n",
    "\n",
    "**Objectives**\n",
    "1. Prepare the data\n",
    "1. Build/train a model to learn from the datasets\n",
    "1. Evalute your AI model. How good is it?\n",
    "1. Optimise it. How good can you get?"
   ]
  },
  {
   "cell_type": "markdown",
   "id": "c63ad9d0",
   "metadata": {},
   "source": [
    "## 1.0 Prepare the data"
   ]
  },
  {
   "cell_type": "code",
   "execution_count": 16,
   "id": "0dba0685-f5a7-4c85-a412-7e3656f0daba",
   "metadata": {},
   "outputs": [],
   "source": [
    "# Import libraries for Python to work on later\n",
    "import keras\n",
    "from keras.datasets import mnist\n",
    "from keras.layers import Dense, Activation, Flatten\n",
    "from keras.models import Sequential\n",
    "import tensorflow\n",
    "from matplotlib import pyplot as plt\n"
   ]
  },
  {
   "cell_type": "markdown",
   "id": "ce8c8947",
   "metadata": {},
   "source": [
    "### 1.1 Load the data and declare required variables"
   ]
  },
  {
   "cell_type": "code",
   "execution_count": 17,
   "id": "b371a773-b8c3-43b6-9890-752c8ecb3f5f",
   "metadata": {},
   "outputs": [],
   "source": [
    "# Load the data and split it between train and test sets\n",
    "(train_X, train_y), (test_X, test_y) = mnist.load_data()"
   ]
  },
  {
   "cell_type": "code",
   "execution_count": null,
   "id": "46f0188e",
   "metadata": {},
   "outputs": [],
   "source": [
    "num_classes = 10  #One for each digit 0 to 9\n",
    "input_shape = (28, 28, 1) #Size of the image. 28 x 28 pixels in 1 dimension (e.g. an RGB image would be 28,28,3)\n",
    "column_vector_size = 28*28 # 28 * 28. The resulting length if we stack all pixels next to each other, width * height."
   ]
  },
  {
   "cell_type": "code",
   "execution_count": null,
   "id": "aac6af3b",
   "metadata": {},
   "outputs": [],
   "source": [
    "#Convert to \"one-hot\" vectors using the to_categorical function\n",
    "num_classes = 10\n",
    "train_y = keras.utils.to_categorical(train_y, num_classes)\n",
    "test_y = keras.utils.to_categorical(test_y, num_classes)"
   ]
  },
  {
   "cell_type": "markdown",
   "id": "67640c9d",
   "metadata": {},
   "source": [
    "### 1.2 Visualise: Plot to inspect the digits"
   ]
  },
  {
   "cell_type": "code",
   "execution_count": 20,
   "id": "d0ef5b18-2540-4d43-bb8e-cba48ff58ad9",
   "metadata": {},
   "outputs": [
    {
     "data": {
      "image/png": "[encoded data removed]",
      "text/plain": [
       "<Figure size 432x288 with 1 Axes>"
      ]
     },
     "metadata": {
      "needs_background": "light"
     },
     "output_type": "display_data"
    },
    {
     "data": {
      "image/png": "[encoded data removed]",
      "text/plain": [
       "<Figure size 432x288 with 1 Axes>"
      ]
     },
     "metadata": {
      "needs_background": "light"
     },
     "output_type": "display_data"
    },
    {
     "data": {
      "image/png": "[encoded data removed]",
      "text/plain": [
       "<Figure size 432x288 with 1 Axes>"
      ]
     },
     "metadata": {
      "needs_background": "light"
     },
     "output_type": "display_data"
    }
   ],
   "source": [
    "%matplotlib inline\n",
    "from matplotlib import pyplot\n",
    "for i in range(3):  \n",
    "    pyplot.subplot(330 + 1 + i)\n",
    "    pyplot.imshow(train_X[i], cmap=pyplot.get_cmap('gray'))\n",
    "    pyplot.show()"
   ]
  },
  {
   "cell_type": "markdown",
   "id": "f9880502",
   "metadata": {},
   "source": [
    "## 2.0 Build the AI Model Arcitecture"
   ]
  },
  {
   "cell_type": "code",
   "execution_count": 23,
   "id": "dfd64225",
   "metadata": {},
   "outputs": [
    {
     "name": "stdout",
     "output_type": "stream",
     "text": [
      "Model: \"sequential_6\"\n",
      "_________________________________________________________________\n",
      " Layer (type)                Output Shape              Param #   \n",
      "=================================================================\n",
      " flatten_6 (Flatten)         (None, 784)               0         \n",
      "                                                                 \n",
      " dense_12 (Dense)            (None, 32)                25120     \n",
      "                                                                 \n",
      " dense_13 (Dense)            (None, 10)                330       \n",
      "                                                                 \n",
      "=================================================================\n",
      "Total params: 25,450\n",
      "Trainable params: 25,450\n",
      "Non-trainable params: 0\n",
      "_________________________________________________________________\n"
     ]
    }
   ],
   "source": [
    "model = Sequential()\n",
    "\n",
    "# Flatten the 28x28 images into a column vector of size 1x784\n",
    "model.add(keras.layers.Flatten(input_shape=[28, 28]))\n",
    "\n",
    "# Add a dense neural network that connects all 784 points of the vector to 32 new points (dimensionality reduction)\n",
    "model.add(Dense(units=32, activation='sigmoid', input_shape=(784,)))\n",
    "\n",
    "# Add another dense layer that goes from these 32 layers, to the 10 layers we need for each digit\n",
    "model.add(Dense(units=num_classes, activation='softmax'))\n",
    "\n",
    "# Display the model in a nice table below\n",
    "model.summary() "
   ]
  },
  {
   "cell_type": "markdown",
   "id": "b50992ab",
   "metadata": {},
   "source": [
    "## 3.0 Run and train the AI model on the Data"
   ]
  },
  {
   "cell_type": "code",
   "execution_count": 22,
   "id": "1d22b74d",
   "metadata": {},
   "outputs": [
    {
     "data": {
      "image/png": "[encoded data removed]",
      "text/plain": [
       "<Figure size 432x288 with 1 Axes>"
      ]
     },
     "metadata": {
      "needs_background": "light"
     },
     "output_type": "display_data"
    },
    {
     "name": "stdout",
     "output_type": "stream",
     "text": [
      "Test loss: 0.479\n",
      "Test accuracy: 0.89\n"
     ]
    }
   ],
   "source": [
    "model.compile(optimizer=\"sgd\", loss='categorical_crossentropy', metrics=['acc'])\n",
    "history = model.fit(train_X, train_y, batch_size=128, epochs=5, verbose=False, validation_split=.1)\n",
    "loss, accuracy  = model.evaluate(test_X, test_y, verbose=False)\n",
    "\n",
    "plt.plot(history.history['acc'])\n",
    "plt.plot(history.history['val_acc'])\n",
    "plt.title('model accuracy')\n",
    "plt.ylabel('accuracy')\n",
    "plt.xlabel('epoch')\n",
    "plt.legend(['training', 'validation'], loc='best')\n",
    "plt.show()\n",
    "\n",
    "print(f'Test loss: {loss:.3}')\n",
    "print(f'Test accuracy: {accuracy:.3}')"
   ]
  }
 ],
 "metadata": {
  "kernelspec": {
   "display_name": "Python 3 (ipykernel)",
   "language": "python",
   "name": "python3"
  },
  "language_info": {
   "codemirror_mode": {
    "name": "ipython",
    "version": 3
   },
   "file_extension": ".py",
   "mimetype": "text/x-python",
   "name": "python",
   "nbconvert_exporter": "python",
   "pygments_lexer": "ipython3",
   "version": "3.9.6"
  }
 },
 "nbformat": 4,
 "nbformat_minor": 5
}
